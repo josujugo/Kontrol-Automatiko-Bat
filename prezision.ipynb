{
  "cells": [
    {
      "cell_type": "markdown",
      "source": [
        "Hasierako konfigurazioa"
      ],
      "metadata": {
        "nteract": {
          "transient": {
            "deleting": false
          }
        }
      }
    },
    {
      "cell_type": "code",
      "source": [
        "import numpy as np\n",
        "import control as ct\n",
        "import control.matlab as ctm\n",
        "import matplotlib.pyplot as plt\n",
        "s=ct.tf([1, 0],1)"
      ],
      "outputs": [],
      "execution_count": 3,
      "metadata": {
        "collapsed": true,
        "jupyter": {
          "source_hidden": false,
          "outputs_hidden": false
        },
        "nteract": {
          "transient": {
            "deleting": false
          }
        },
        "execution": {
          "iopub.status.busy": "2022-02-25T08:35:56.537Z",
          "iopub.execute_input": "2022-02-25T08:35:56.542Z",
          "iopub.status.idle": "2022-02-25T08:35:57.356Z",
          "shell.execute_reply": "2022-02-25T08:35:57.429Z"
        }
      }
    },
    {
      "cell_type": "markdown",
      "source": [
        "Plantaren definizioa\n",
        "\n",
        "$g=\\frac{g_{la}}{1+g_{la}}$\n",
        "\n",
        "\n",
        "$(1+g_{la})g=g_{la}$"
      ],
      "metadata": {
        "nteract": {
          "transient": {
            "deleting": false
          }
        }
      }
    },
    {
      "cell_type": "code",
      "source": [
        "g = 100/(s**3 +7*s**2 +10*s+100)\n",
        "gla=ct.feedback(g,-1)\n",
        "gla"
      ],
      "outputs": [
        {
          "output_type": "execute_result",
          "execution_count": 4,
          "data": {
            "text/plain": "TransferFunction(array([100]), array([ 1.,  7., 10.,  0.]))",
            "text/latex": "$$\\frac{100}{s^3 + 7 s^2 + 10 s}$$"
          },
          "metadata": {}
        }
      ],
      "execution_count": 4,
      "metadata": {
        "collapsed": true,
        "jupyter": {
          "source_hidden": false,
          "outputs_hidden": false
        },
        "nteract": {
          "transient": {
            "deleting": false
          }
        },
        "execution": {
          "iopub.status.busy": "2022-02-25T08:36:00.734Z",
          "iopub.execute_input": "2022-02-25T08:36:00.739Z",
          "iopub.status.idle": "2022-02-25T08:36:00.755Z",
          "shell.execute_reply": "2022-02-25T08:36:00.765Z"
        }
      }
    },
    {
      "cell_type": "markdown",
      "source": [
        "Prezisioa, sistema 0 motakoa izanik"
      ],
      "metadata": {
        "nteract": {
          "transient": {
            "deleting": false
          }
        }
      }
    },
    {
      "cell_type": "code",
      "source": [
        "Kp = ct.dcgain(gla)\n",
        "ess=1/(1+Kp)\n",
        "print('Kp: ', Kp, ' ess: ', ess)"
      ],
      "outputs": [
        {
          "output_type": "stream",
          "name": "stdout",
          "text": [
            "Kp:  inf  ess:  0.0\n"
          ]
        }
      ],
      "execution_count": 11,
      "metadata": {
        "collapsed": true,
        "jupyter": {
          "source_hidden": false,
          "outputs_hidden": false
        },
        "nteract": {
          "transient": {
            "deleting": false
          }
        },
        "execution": {
          "iopub.status.busy": "2022-02-25T08:39:08.502Z",
          "iopub.execute_input": "2022-02-25T08:39:08.505Z",
          "iopub.status.idle": "2022-02-25T08:39:08.586Z",
          "shell.execute_reply": "2022-02-25T08:39:08.591Z"
        }
      }
    },
    {
      "cell_type": "markdown",
      "source": [
        "Konprobazioa"
      ],
      "metadata": {
        "nteract": {
          "transient": {
            "deleting": false
          }
        }
      }
    },
    {
      "cell_type": "code",
      "source": [
        "t = np.r_[0:10:0.01]\n",
        "(y,t) = ctm.step(g,t)\n",
        "plt.plot(t,y);"
      ],
      "outputs": [
        {
          "output_type": "display_data",
          "data": {
            "text/plain": "<Figure size 432x288 with 1 Axes>",
            "image/png": "[encoded data removed]"
          },
          "metadata": {
            "needs_background": "light"
          }
        }
      ],
      "execution_count": 25,
      "metadata": {
        "collapsed": true,
        "jupyter": {
          "source_hidden": false,
          "outputs_hidden": false
        },
        "nteract": {
          "transient": {
            "deleting": false
          }
        },
        "execution": {
          "iopub.status.busy": "2022-02-24T22:07:13.243Z",
          "iopub.execute_input": "2022-02-24T22:07:13.247Z",
          "iopub.status.idle": "2022-02-24T22:07:13.373Z",
          "shell.execute_reply": "2022-02-24T22:07:13.382Z"
        }
      }
    },
    {
      "cell_type": "markdown",
      "source": [
        "Sistema ezegonakorra da!"
      ],
      "metadata": {
        "nteract": {
          "transient": {
            "deleting": false
          }
        }
      }
    },
    {
      "cell_type": "code",
      "source": [
        "g.pole().real>0"
      ],
      "outputs": [
        {
          "output_type": "execute_result",
          "execution_count": 17,
          "data": {
            "text/plain": "array([False,  True,  True])"
          },
          "metadata": {}
        }
      ],
      "execution_count": 17,
      "metadata": {
        "collapsed": true,
        "jupyter": {
          "source_hidden": false,
          "outputs_hidden": false
        },
        "nteract": {
          "transient": {
            "deleting": false
          }
        },
        "execution": {
          "iopub.status.busy": "2022-02-25T08:40:20.096Z",
          "iopub.execute_input": "2022-02-25T08:40:20.099Z",
          "iopub.status.idle": "2022-02-25T08:40:20.107Z",
          "shell.execute_reply": "2022-02-25T08:40:20.109Z"
        }
      }
    }
  ],
  "metadata": {
    "kernel_info": {
      "name": "python3"
    },
    "language_info": {
      "name": "python",
      "version": "3.8.8",
      "mimetype": "text/x-python",
      "codemirror_mode": {
        "name": "ipython",
        "version": 3
      },
      "pygments_lexer": "ipython3",
      "nbconvert_exporter": "python",
      "file_extension": ".py"
    },
    "kernelspec": {
      "argv": [
        "/Users/josu/opt/anaconda3/bin/python",
        "-m",
        "ipykernel_launcher",
        "-f",
        "{connection_file}"
      ],
      "display_name": "Python 3",
      "language": "python",
      "name": "python3"
    },
    "nteract": {
      "version": "0.28.0"
    }
  },
  "nbformat": 4,
  "nbformat_minor": 0
}